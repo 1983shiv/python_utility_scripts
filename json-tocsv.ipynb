{
 "cells": [
  {
   "cell_type": "code",
   "execution_count": 1,
   "id": "75015eb4-6c06-4bbd-924f-a43c42e6bc0a",
   "metadata": {},
   "outputs": [],
   "source": [
    "import pandas as pd"
   ]
  },
  {
   "cell_type": "code",
   "execution_count": 2,
   "id": "6ba2af02-af40-4aa8-988d-9cb7b20d12ec",
   "metadata": {},
   "outputs": [],
   "source": [
    "data = pd.read_csv(\"df2.csv\")"
   ]
  },
  {
   "cell_type": "code",
   "execution_count": 3,
   "id": "67750b3a-4479-42a4-abda-885517469bae",
   "metadata": {},
   "outputs": [],
   "source": [
    "data.to_json(\"eq-feb.json\")"
   ]
  },
  {
   "cell_type": "code",
   "execution_count": 4,
   "id": "894b7436-1ce5-4128-bfae-19c077136204",
   "metadata": {},
   "outputs": [],
   "source": [
    "data['ctoken'] = data['ctoken'].astype(object)"
   ]
  },
  {
   "cell_type": "code",
   "execution_count": 5,
   "id": "8d75a45c-f19d-4605-8542-232bfa437586",
   "metadata": {},
   "outputs": [
    {
     "name": "stdout",
     "output_type": "stream",
     "text": [
      "<class 'pandas.core.frame.DataFrame'>\n",
      "RangeIndex: 185 entries, 0 to 184\n",
      "Data columns (total 7 columns):\n",
      " #   Column  Non-Null Count  Dtype  \n",
      "---  ------  --------------  -----  \n",
      " 0   fut     185 non-null    object \n",
      " 1   ftoken  185 non-null    object \n",
      " 2   eq      184 non-null    object \n",
      " 3   ctoken  184 non-null    object \n",
      " 4   Symbol  184 non-null    object \n",
      " 5   oc      66 non-null     float64\n",
      " 6   oc2     2 non-null      float64\n",
      "dtypes: float64(2), object(5)\n",
      "memory usage: 10.2+ KB\n"
     ]
    }
   ],
   "source": [
    "data.info()"
   ]
  },
  {
   "cell_type": "code",
   "execution_count": null,
   "id": "aa0e6951-b78e-4bee-81db-e72e7eabbaa3",
   "metadata": {},
   "outputs": [],
   "source": []
  }
 ],
 "metadata": {
  "kernelspec": {
   "display_name": "Python 3 (ipykernel)",
   "language": "python",
   "name": "python3"
  },
  "language_info": {
   "codemirror_mode": {
    "name": "ipython",
    "version": 3
   },
   "file_extension": ".py",
   "mimetype": "text/x-python",
   "name": "python",
   "nbconvert_exporter": "python",
   "pygments_lexer": "ipython3",
   "version": "3.11.8"
  }
 },
 "nbformat": 4,
 "nbformat_minor": 5
}
